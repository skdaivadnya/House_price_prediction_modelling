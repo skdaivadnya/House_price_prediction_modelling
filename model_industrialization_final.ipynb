{
 "cells": [
  {
   "cell_type": "markdown",
   "id": "b41466e9-b574-4041-91aa-faa83e74ecf1",
   "metadata": {},
   "source": [
    "# model building"
   ]
  },
  {
   "cell_type": "code",
   "execution_count": null,
   "id": "4bb796df-4852-49cc-aabc-b8697f2dd930",
   "metadata": {},
   "outputs": [],
   "source": [
    "import pandas as pd\n",
    "from house_prices.train import build_model\n",
    "\n",
    "training_data_df = pd.read_csv('/path/to/the/train/data')\n",
    "model_performance_dict = build_model(training_data_df)\n",
    "print(model_performance_dict)"
   ]
  },
  {
   "cell_type": "markdown",
   "id": "21d787a7-5672-44f6-a620-644d9231f51c",
   "metadata": {},
   "source": [
    "# model inference"
   ]
  },
  {
   "cell_type": "code",
   "execution_count": null,
   "id": "2bb67a1e-daa5-4c0a-8786-0e8e3478adb6",
   "metadata": {},
   "outputs": [],
   "source": [
    "import pandas as pd\n",
    "from house_prices.inference import make_predictions\n",
    "\n",
    "user_data_df = pd.read_csv('/path/to/the/test/data')\n",
    "predictions = make_predictions(user_data_df)\n",
    "predictions"
   ]
  }
 ],
 "metadata": {
  "kernelspec": {
   "display_name": "Python 3",
   "language": "python",
   "name": "python3"
  },
  "language_info": {
   "codemirror_mode": {
    "name": "ipython",
    "version": 3
   },
   "file_extension": ".py",
   "mimetype": "text/x-python",
   "name": "python",
   "nbconvert_exporter": "python",
   "pygments_lexer": "ipython3",
   "version": "3.8.8"
  }
 },
 "nbformat": 4,
 "nbformat_minor": 5
}
